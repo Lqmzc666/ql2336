{
 "cells": [
  {
   "cell_type": "code",
   "execution_count": 67,
   "metadata": {},
   "outputs": [],
   "source": [
    "import pandas as pd\n",
    "import numpy as np\n",
    "from sklearn.model_selection import train_test_split,KFold,cross_validate\n",
    "from sklearn.linear_model import LogisticRegression\n",
    "from sklearn.neighbors import KNeighborsClassifier\n",
    "from sklearn.metrics import roc_curve, auc,confusion_matrix\n",
    "import matplotlib.pyplot as plt"
   ]
  },
  {
   "cell_type": "markdown",
   "metadata": {},
   "source": [
    "<h4>Data processing for machine learning algorithm</h4>"
   ]
  },
  {
   "cell_type": "code",
   "execution_count": 56,
   "metadata": {},
   "outputs": [],
   "source": [
    "df=pd.read_csv('final_data.csv')\n",
    "del df['Unnamed: 0']\n",
    "del df['boolDeadRelations']\n",
    "del df['age']\n",
    "del df['isNoble']\n",
    "\n",
    "df.set_index('name',inplace=True)\n",
    "\n",
    "# get dummy varibles for ordinal varibles\n",
    "culture_dummy=pd.get_dummies(df['culture'],prefix='Culture') #Nan value will be ingored automatically\n",
    "df[culture_dummy.columns]=culture_dummy\n",
    "del df['culture']\n",
    "\n",
    "house_dummy=pd.get_dummies(df['house'],prefix='House')\n",
    "df[house_dummy.columns]=house_dummy\n",
    "del df['house']\n",
    "\n",
    "identity_dummy=pd.get_dummies(df['identity'])\n",
    "df[identity_dummy.columns]=identity_dummy\n",
    "del df['identity']  \n",
    "del df['lord']  #delete one column to eliminate the linear relationships\n",
    "\n",
    "#get the attribute set and label set\n",
    "X=df.drop('isAlive',axis=1)\n",
    "Y=df['isAlive']\n",
    "\n",
    "X_train,X_test,Y_train,Y_test=train_test_split(X,Y,test_size=0.15)\n"
   ]
  },
  {
   "cell_type": "code",
   "execution_count": 75,
   "metadata": {},
   "outputs": [],
   "source": [
    "#just write the X,Y with the best accuracy\n",
    "\n",
    "#X_train=pd.read_csv('X_train.csv',index_col='name')\n",
    "#X_test=pd.read_csv('X_test.csv',index_col='name')\n",
    "#Y_train=pd.read_csv('Y_train.csv',index_col='name').values.ravel()\n",
    "#Y_test=pd.read_csv('Y_test.csv',index_col='name').values.ravel()"
   ]
  },
  {
   "cell_type": "markdown",
   "metadata": {},
   "source": [
    "<h4>K_nearest neighbors algorithm</h4>"
   ]
  },
  {
   "cell_type": "code",
   "execution_count": 76,
   "metadata": {},
   "outputs": [],
   "source": [
    "def validate_model(model,K,X,Y):    #cross validation\n",
    "    folder=KFold(K,shuffle=True)\n",
    "    folds=folder.split(X,Y)\n",
    "    val_error=0.0\n",
    "    fold_count=0\n",
    "    for fold in folds:\n",
    "        train_idx,val_idx=fold\n",
    "        x_train=X.iloc[train_idx]\n",
    "        y_train=Y[train_idx]\n",
    "        x_val=X.iloc[val_idx]\n",
    "        y_val=Y[val_idx]     \n",
    "        model.fit(x_train,y_train)\n",
    "        y_pred=model.predict(x_val)\n",
    "        val_err=np.mean(y_val==y_pred)\n",
    "        val_error+=val_err\n",
    "        fold_count+=1\n",
    "    return val_error/K"
   ]
  },
  {
   "cell_type": "code",
   "execution_count": 77,
   "metadata": {},
   "outputs": [],
   "source": [
    "#choose the best k for the model\n",
    "accuracy=np.array([])  \n",
    "for k in range(3,20):\n",
    "    base_model=KNeighborsClassifier(n_neighbors=k)\n",
    "    score=validate_model(base_model,5,X_train,Y_train)  #use 5-fold\n",
    "    accuracy=np.append(accuracy,score)"
   ]
  },
  {
   "cell_type": "code",
   "execution_count": 78,
   "metadata": {},
   "outputs": [
    {
     "name": "stdout",
     "output_type": "stream",
     "text": [
      "the best_k is 17\n",
      "the accuracy of knn is 0.8116438356164384\n",
      "[[ 16   6]\n",
      " [ 49 221]]\n"
     ]
    },
    {
     "data": {
      "text/plain": [
       "[<matplotlib.lines.Line2D at 0x22d742ae2e8>]"
      ]
     },
     "execution_count": 78,
     "metadata": {},
     "output_type": "execute_result"
    },
    {
     "data": {
      "image/png": "[encoded data removed]",
      "text/plain": [
       "<Figure size 432x288 with 1 Axes>"
      ]
     },
     "metadata": {},
     "output_type": "display_data"
    }
   ],
   "source": [
    "best_k=accuracy.argmax()+3\n",
    "print(f'the best_k is {best_k}')\n",
    "knn_best_model=KNeighborsClassifier(n_neighbors=best_k).fit(X_train,Y_train)\n",
    "Y_pre=knn_best_model.predict(X_test)\n",
    "print(f'the accuracy of knn is {np.mean(Y_pre==Y_test)}')\n",
    "matrix=confusion_matrix(Y_pre,Y_test)\n",
    "print(matrix)\n",
    "(fpr, tpr, thresholds) = roc_curve(Y_test,Y_pre)\n",
    "area = auc(fpr,tpr)\n",
    "plt.title(f'the auc of knn is {area}')\n",
    "plt.xlabel('fpr')\n",
    "plt.ylabel('tpr')\n",
    "plt.plot([0, 1], [0, 1], 'k')\n",
    "plt.plot(fpr,tpr)"
   ]
  },
  {
   "cell_type": "markdown",
   "metadata": {},
   "source": [
    "<h4>Logistic Regression</h4>"
   ]
  },
  {
   "cell_type": "code",
   "execution_count": 79,
   "metadata": {},
   "outputs": [
    {
     "name": "stdout",
     "output_type": "stream",
     "text": [
      "the accuracy of LogisticRegression is 0.8013698630136986\n"
     ]
    }
   ],
   "source": [
    "Logis_model=LogisticRegression(solver='liblinear').fit(X_train,Y_train)\n",
    "y_pre=Logis_model.predict(X_test)\n",
    "print(f'the accuracy of LogisticRegression is {np.mean(y_pre==Y_test)}')"
   ]
  },
  {
   "cell_type": "code",
   "execution_count": 80,
   "metadata": {},
   "outputs": [
    {
     "data": {
      "text/plain": [
       "<BarContainer object of 10 artists>"
      ]
     },
     "execution_count": 80,
     "metadata": {},
     "output_type": "execute_result"
    },
    {
     "data": {
      "image/png": "[encoded data removed]",
      "text/plain": [
       "<Figure size 432x288 with 1 Axes>"
      ]
     },
     "metadata": {},
     "output_type": "display_data"
    }
   ],
   "source": [
    "#calculate the importance of each attribute\n",
    "feature_importance=Logis_model.coef_.ravel()*np.std(X_train,axis=0)\n",
    "#find the most ten important factors\n",
    "index=feature_importance[abs(feature_importance).argsort()[::-1][:10]].index\n",
    "plt.barh(index,feature_importance[abs(feature_importance).argsort()[::-1][:10]])"
   ]
  },
  {
   "cell_type": "code",
   "execution_count": 81,
   "metadata": {},
   "outputs": [
    {
     "name": "stdout",
     "output_type": "stream",
     "text": [
      "[[ 21  14]\n",
      " [ 44 213]]\n"
     ]
    },
    {
     "data": {
      "text/plain": [
       "[<matplotlib.lines.Line2D at 0x22d73e5cfd0>]"
      ]
     },
     "execution_count": 81,
     "metadata": {},
     "output_type": "execute_result"
    },
    {
     "data": {
      "image/png": "[encoded data removed]",
      "text/plain": [
       "<Figure size 432x288 with 1 Axes>"
      ]
     },
     "metadata": {},
     "output_type": "display_data"
    }
   ],
   "source": [
    "matrix=confusion_matrix(y_pre,Y_test)\n",
    "print(matrix)\n",
    "(fpr, tpr, thresholds) = roc_curve(Y_test,y_pre)\n",
    "area = auc(fpr,tpr)\n",
    "plt.title(f'the auc of LogisticsRegression is {area}')\n",
    "plt.xlabel('fpr')\n",
    "plt.ylabel('tpr')\n",
    "plt.plot([0, 1], [0, 1], 'k')\n",
    "plt.plot(fpr,tpr)"
   ]
  },
  {
   "cell_type": "markdown",
   "metadata": {},
   "source": [
    "<h4>Predict the death probability for the main characters</h4>"
   ]
  },
  {
   "cell_type": "code",
   "execution_count": 82,
   "metadata": {},
   "outputs": [
    {
     "data": {
      "text/html": [
       "<div>\n",
       "<style scoped>\n",
       "    .dataframe tbody tr th:only-of-type {\n",
       "        vertical-align: middle;\n",
       "    }\n",
       "\n",
       "    .dataframe tbody tr th {\n",
       "        vertical-align: top;\n",
       "    }\n",
       "\n",
       "    .dataframe thead th {\n",
       "        text-align: right;\n",
       "    }\n",
       "</style>\n",
       "<table border=\"1\" class=\"dataframe\">\n",
       "  <thead>\n",
       "    <tr style=\"text-align: right;\">\n",
       "      <th></th>\n",
       "      <th>Death</th>\n",
       "      <th>Alive</th>\n",
       "    </tr>\n",
       "  </thead>\n",
       "  <tbody>\n",
       "    <tr>\n",
       "      <th>Sansa Stark</th>\n",
       "      <td>0.366667</td>\n",
       "      <td>0.633333</td>\n",
       "    </tr>\n",
       "    <tr>\n",
       "      <th>Jon Snow</th>\n",
       "      <td>0.395381</td>\n",
       "      <td>0.604619</td>\n",
       "    </tr>\n",
       "    <tr>\n",
       "      <th>Arya Stark</th>\n",
       "      <td>0.404355</td>\n",
       "      <td>0.595645</td>\n",
       "    </tr>\n",
       "    <tr>\n",
       "      <th>Bran Stark</th>\n",
       "      <td>0.506960</td>\n",
       "      <td>0.493040</td>\n",
       "    </tr>\n",
       "    <tr>\n",
       "      <th>Cersei Lannister</th>\n",
       "      <td>0.785220</td>\n",
       "      <td>0.214780</td>\n",
       "    </tr>\n",
       "    <tr>\n",
       "      <th>Jaime Lannister</th>\n",
       "      <td>0.786901</td>\n",
       "      <td>0.213099</td>\n",
       "    </tr>\n",
       "    <tr>\n",
       "      <th>Daenerys Targaryen</th>\n",
       "      <td>0.901711</td>\n",
       "      <td>0.098289</td>\n",
       "    </tr>\n",
       "    <tr>\n",
       "      <th>Tyrion Lannister</th>\n",
       "      <td>0.904541</td>\n",
       "      <td>0.095459</td>\n",
       "    </tr>\n",
       "  </tbody>\n",
       "</table>\n",
       "</div>"
      ],
      "text/plain": [
       "                       Death     Alive\n",
       "Sansa Stark         0.366667  0.633333\n",
       "Jon Snow            0.395381  0.604619\n",
       "Arya Stark          0.404355  0.595645\n",
       "Bran Stark          0.506960  0.493040\n",
       "Cersei Lannister    0.785220  0.214780\n",
       "Jaime Lannister     0.786901  0.213099\n",
       "Daenerys Targaryen  0.901711  0.098289\n",
       "Tyrion Lannister    0.904541  0.095459"
      ]
     },
     "execution_count": 82,
     "metadata": {},
     "output_type": "execute_result"
    }
   ],
   "source": [
    "#Get the data we need to predict\n",
    "name=['Sansa Stark','Tyrion Lannister','Jon Snow','Daenerys Targaryen','Jaime Lannister','Bran Stark', 'Arya Stark','Cersei Lannister']\n",
    "X_prediction=df.loc[name].drop('isAlive',axis=1)\n",
    "Y_prediction=df.loc[name]['isAlive']\n",
    "death_prob=Logis_model.predict_proba(X_prediction)\n",
    "pd.DataFrame(death_prob,index=name,columns=['Death','Alive']).sort_values(by='Death')"
   ]
  },
  {
   "cell_type": "markdown",
   "metadata": {},
   "source": [
    "<h4>Try to use oversampling to modify the imbalanced dataset"
   ]
  },
  {
   "cell_type": "code",
   "execution_count": 83,
   "metadata": {},
   "outputs": [
    {
     "name": "stdout",
     "output_type": "stream",
     "text": [
      "(1654, 382)\n",
      "(2448, 382)\n"
     ]
    },
    {
     "data": {
      "text/plain": [
       "(0.7739439882961545, 0.9019034525784816)"
      ]
     },
     "execution_count": 83,
     "metadata": {},
     "output_type": "execute_result"
    }
   ],
   "source": [
    "#use random oversample to modify the data\n",
    "from imblearn.over_sampling import RandomOverSampler,SMOTE\n",
    "from imblearn.pipeline import make_pipeline as make_imb_pipeline\n",
    "ros = RandomOverSampler()\n",
    "X_train_oversample, Y_train_oversample = ros.fit_sample(X_train, Y_train)\n",
    "print(X_train.shape)\n",
    "print(X_train_oversample.shape)\n",
    "oversample_pipe = make_imb_pipeline(RandomOverSampler(), LogisticRegression(solver='liblinear'))\n",
    "scores = cross_validate(oversample_pipe,\n",
    "                        X_train, Y_train, cv=10,\n",
    "                        scoring=('roc_auc', 'average_precision'))\n",
    "scores['test_roc_auc'].mean(), scores['test_average_precision'].mean()"
   ]
  },
  {
   "cell_type": "code",
   "execution_count": 84,
   "metadata": {},
   "outputs": [
    {
     "data": {
      "text/plain": [
       "(0.7725571011905317, 0.8985074385206475)"
      ]
     },
     "execution_count": 84,
     "metadata": {},
     "output_type": "execute_result"
    }
   ],
   "source": [
    "#use smote method to modify the data\n",
    "oversample_pipe = make_imb_pipeline(SMOTE(), LogisticRegression(solver='liblinear'))\n",
    "scores = cross_validate(oversample_pipe,\n",
    "                        X_train, Y_train, cv=10,\n",
    "                        scoring=('roc_auc', 'average_precision'))\n",
    "scores['test_roc_auc'].mean(), scores['test_average_precision'].mean()"
   ]
  },
  {
   "cell_type": "code",
   "execution_count": null,
   "metadata": {},
   "outputs": [],
   "source": []
  }
 ],
 "metadata": {
  "kernelspec": {
   "display_name": "Python 3",
   "language": "python",
   "name": "python3"
  },
  "language_info": {
   "codemirror_mode": {
    "name": "ipython",
    "version": 3
   },
   "file_extension": ".py",
   "mimetype": "text/x-python",
   "name": "python",
   "nbconvert_exporter": "python",
   "pygments_lexer": "ipython3",
   "version": "3.6.8"
  }
 },
 "nbformat": 4,
 "nbformat_minor": 2
}
